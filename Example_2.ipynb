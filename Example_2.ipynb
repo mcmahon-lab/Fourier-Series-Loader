{
 "cells": [
  {
   "cell_type": "markdown",
   "id": "ceb481a2",
   "metadata": {},
   "source": [
    "# Noiseless simulation of the FSL method for non-periodic functions"
   ]
  },
  {
   "cell_type": "markdown",
   "id": "e643e2e6",
   "metadata": {},
   "source": [
    "As we discussed in Sec. (II) of our paper, the FSL method has to be modified for non-periodic functions. In this notebook, we provide a tutorial for using the FSL method to load non-periodic functions. \n",
    "\n",
    "We first import useful libraries."
   ]
  },
  {
   "cell_type": "code",
   "execution_count": 1,
   "id": "282e65d4",
   "metadata": {},
   "outputs": [],
   "source": [
    "import numpy as np\n",
    "import matplotlib.pyplot as plt\n",
    "\n",
    "# Qiskit \n",
    "import qiskit\n",
    "from qiskit import QuantumCircuit, Aer, transpile\n",
    "from qiskit.circuit.library import QFT\n",
    "\n",
    "# Custom libraries\n",
    "import supplementary\n",
    "import uniformly_controlled_rotations as UCR"
   ]
  },
  {
   "cell_type": "markdown",
   "id": "5e2be106",
   "metadata": {},
   "source": [
    "Approximating a non-periodic function by a truncated Fourier series leads to large oscillations near the boundary of the domain, also known as the Gibbs phenomenon. The FSL method loads a Fourier series approximation of the target function on a quantum computer and so we expect large oscillations in the amplitudes of the state prepared using the standard FSL method. To overcome this issue, we proposed the following modification to the FSL method. Instead of directly loading the $n$-qubit target state $|f\\rangle \\, = \\, \\sum_{k=0}^{2^{n}-1} \\, f_{k} |k\\rangle \\, $, we consider the $(n+1)$-qubit state\n",
    "\n",
    "$$ |F\\rangle \\, = \\, \\frac{1}{\\sqrt{2}} |0\\rangle \\, \\otimes \\,\\sum_{k=0}^{2^{n}-1} \\, f_{k} |k\\rangle \\, + \\, \\frac{1}{\\sqrt{2}} |1\\rangle \\, \\otimes \\,\\sum_{k=0}^{2^{n}-1} \\, f_{2^{n}-1-k} |k\\rangle \\, .$$\n",
    "\n",
    "The amplitudes of this state store the values of the function $F(x) = f(x)/\\sqrt{2}$ for $0 \\le x \\le 1$ and $F(x) = f(2-x)/\\sqrt(2)$ for $1 \\le x \\le 2$. By construction, $F(x)$ is periodic on the domain $[0,2]$, its Fourier series approximation does not suffer from large oscillations. Hence, we can prepare the $(n+1)$-qubit state $|F\\rangle$ with high fidelity using the standard FSL method. Once we have prepared the state $|F\\rangle$, we pass it through the circuit shown below. This circuit is designed to disentangle the ancilla qubit from the other $n$ qubits and map the state of the $n$ qubits to the target $|f\\rangle$. \n",
    "\n",
    "<img src=\"figures/non-periodic_fsl.jpg\" alt=\"FSL circuit for non-periodic functions\" style=\"height: 200px; width:550px;\"/>\n"
   ]
  },
  {
   "cell_type": "markdown",
   "id": "252bc13a",
   "metadata": {},
   "source": [
    "## Example\n",
    "\n",
    "As a example, we now perform the simulation of loading $f(x) = \\mathcal{N}^{-1/2} \\tanh\\big(4(x-1/2)\\big)$ for $0\\le x \\le 1$ on a state of $n=20$ qubits using the modified FSL method. The normalization constant $\\mathcal{N}$ ensures that the state $|f\\rangle$ is normalized. We start by encoding the values of $f(x)$ and $F(x)$ on the `list`s `target_f` and `target_F`, respectively. "
   ]
  },
  {
   "cell_type": "code",
   "execution_count": 2,
   "id": "aac4cd5b",
   "metadata": {},
   "outputs": [],
   "source": [
    "# no. of qubits \n",
    "n = 20 \n",
    "# Discretizing the domain [0,1]\n",
    "x = [k/(2**n) for k in range(2**n)]\n",
    "\n",
    "# Target function f\n",
    "target_f = [np.tanh(4*(xx-0.5)) for xx in x]\n",
    "target_f = target_f/np.linalg.norm(target_f)\n",
    "\n",
    "# Target function F\n",
    "target_F = [*target_f,*target_f[::-1]]\n",
    "target_F = target_F/np.sqrt(2)"
   ]
  },
  {
   "cell_type": "markdown",
   "id": "f94bd21f",
   "metadata": {},
   "source": [
    "To load $F(x)$ using the FSL method, we first need to approximate it by a truncated Fourier series. We do this using the function `Fourier_state` defined in the code file `supplementary.py`. This function takes the list `target_F` and an `int` $m$ as inputs and returns a `list` of length $2^{(m+1)}$, $[c_{0}, c_{1}, \\dots , c_{2^{m}-1}, 0, c_{-2^{m}+1}, \\dots, c_{-1} ] \\, $, where $c_{\\ell}$ are the discrete Fourier coeffiecents of $F(x)$.  \n",
    "\n",
    "For concreteness, we choose $m=6$."
   ]
  },
  {
   "cell_type": "code",
   "execution_count": 3,
   "id": "dac9cd21",
   "metadata": {},
   "outputs": [],
   "source": [
    "# No. of Fourier modes\n",
    "m = 6\n",
    "# Fourier state |c>\n",
    "state_c = supplementary.Fourier_state(target_F,m)"
   ]
  },
  {
   "cell_type": "markdown",
   "id": "0523c437",
   "metadata": {},
   "source": [
    "Now we can construct the FSL circuit to prepare the state $|F\\rangle \\, $. Note that this circuit acts on $(n+1)$ qubits. Also, note that we perform the simulation using the Qiskit Aer `statevector_vector` simulator."
   ]
  },
  {
   "cell_type": "code",
   "execution_count": 4,
   "id": "98e7e6d4",
   "metadata": {},
   "outputs": [],
   "source": [
    "# simulator\n",
    "simulator = Aer.get_backend('statevector_simulator')\n",
    "\n",
    "# Initialize a quantum circuit\n",
    "circ = QuantumCircuit(n+1)\n",
    "\n",
    "# Uniformly controlled rotation\n",
    "# to prepare the state |c>\n",
    "U_c = UCR.cascade_UCRs(state_c)\n",
    "\n",
    "# Apply U_c on the last (m+1) qubits\n",
    "Uc_qubits = range(n-m,n+1)\n",
    "circ.compose(U_c,qubits=Uc_qubits,inplace=True)\n",
    "\n",
    "# Apply a cascade of CNOTs\n",
    "for i in range(n-m):\n",
    "    circ.cx(n-m,i)\n",
    "\n",
    "# Finally, apply the inverse QFT.\n",
    "inv_qft = QFT(num_qubits=n+1, inverse=True)\n",
    "inv_qft = transpile(inv_qft, simulator)\n",
    "circ.compose(inv_qft,qubits=range(n,-1,-1),inplace=True)"
   ]
  },
  {
   "cell_type": "markdown",
   "id": "767c8060",
   "metadata": {},
   "source": [
    "Once we have the circuit to prepare the state $|F\\rangle \\, $, we now apply the CNOT gates to disentangle the ancilla qubit from the other $n$ qubits and to map the state of the $n$ qubits to $|f\\rangle \\, $. "
   ]
  },
  {
   "cell_type": "code",
   "execution_count": 5,
   "id": "cdea5319",
   "metadata": {},
   "outputs": [
    {
     "data": {
      "text/plain": [
       "<qiskit.circuit.instructionset.InstructionSet at 0x78020a24e580>"
      ]
     },
     "execution_count": 5,
     "metadata": {},
     "output_type": "execute_result"
    }
   ],
   "source": [
    "# Disentangle the ancilla qubit \n",
    "# using a cascade of CNOTs and\n",
    "# a Hadamard\n",
    "for i in range(1,n+1):\n",
    "    circ.cx(0,i)\n",
    "circ.h(0)"
   ]
  },
  {
   "cell_type": "markdown",
   "id": "96b157a6",
   "metadata": {},
   "source": [
    "Finally, we run the circuit and plot the simulated statevector. "
   ]
  },
  {
   "cell_type": "code",
   "execution_count": 6,
   "id": "0162d328",
   "metadata": {},
   "outputs": [
    {
     "data": {
      "image/png": "[encoded data removed]",
      "text/plain": [
       "<Figure size 576x504 with 1 Axes>"
      ]
     },
     "metadata": {
      "needs_background": "light"
     },
     "output_type": "display_data"
    }
   ],
   "source": [
    "# Run the circuit\n",
    "# and get the statevector\n",
    "job = simulator.run(circ)\n",
    "output_state = job.result().get_statevector(circ)\n",
    "\n",
    "# Qubit reordering\n",
    "simulated_f = supplementary.output_reordering(output_state)[:2**n]\n",
    "\n",
    "# Plottting the simulated statevectors \n",
    "fig=plt.figure(figsize=(8, 7))\n",
    "ax = fig.add_subplot(111)\n",
    "plt.grid()\n",
    "line, = ax.plot(x, target_f, 'blue', lw=7, alpha=0.3,label='Target')\n",
    "line1, = ax.plot(x, np.real(simulated_f), 'red', lw=2,label='FSL Simulation')\n",
    "plt.xlabel('x')\n",
    "plt.ylabel('f(x)')\n",
    "plt.legend(loc=2,fontsize=20)\n",
    "plt.tight_layout()\n",
    "plt.show()"
   ]
  },
  {
   "cell_type": "markdown",
   "id": "2251e1de",
   "metadata": {},
   "source": [
    "This shows that we can load a non-periodic function on a quantum computer with high fidelity using the FSL method. We also calculate the infidelity, $1 - |\\langle f_{FSL} | f_{target} \\rangle|^2$, between the target state and the simulated state."
   ]
  },
  {
   "cell_type": "code",
   "execution_count": 7,
   "id": "c0ee5869",
   "metadata": {},
   "outputs": [
    {
     "name": "stdout",
     "output_type": "stream",
     "text": [
      "8.033165022069966e-09\n"
     ]
    }
   ],
   "source": [
    "# Calculate infidelity\n",
    "infidelity = 1 - np.abs(np.dot(np.conjugate(simulated_f),target_f))**2\n",
    "print(infidelity)"
   ]
  },
  {
   "cell_type": "markdown",
   "id": "0812e89f",
   "metadata": {},
   "source": [
    "## Conclusion\n",
    "\n",
    "In this notebook, we have reviewed how to load a non-periodic function on a quantum state using the FSL method and have provided a worked example. "
   ]
  },
  {
   "cell_type": "code",
   "execution_count": null,
   "id": "d1196a3d",
   "metadata": {},
   "outputs": [],
   "source": []
  }
 ],
 "metadata": {
  "kernelspec": {
   "display_name": "Python 3 (ipykernel)",
   "language": "python",
   "name": "python3"
  },
  "language_info": {
   "codemirror_mode": {
    "name": "ipython",
    "version": 3
   },
   "file_extension": ".py",
   "mimetype": "text/x-python",
   "name": "python",
   "nbconvert_exporter": "python",
   "pygments_lexer": "ipython3",
   "version": "3.9.2"
  }
 },
 "nbformat": 4,
 "nbformat_minor": 5
}
