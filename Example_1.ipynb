{
 "cells": [
  {
   "cell_type": "markdown",
   "id": "ceb481a2",
   "metadata": {},
   "source": [
    "# Noiseless simulation of the FSL method"
   ]
  },
  {
   "cell_type": "markdown",
   "id": "e643e2e6",
   "metadata": {},
   "source": [
    "In this notebook, we present a step-by-step tutorial on implementing and using the FSL method to load a periodic, univariate function into a quantum state.\n",
    "\n",
    "We first import useful libraries."
   ]
  },
  {
   "cell_type": "code",
   "execution_count": 1,
   "id": "282e65d4",
   "metadata": {},
   "outputs": [],
   "source": [
    "import numpy as np\n",
    "import matplotlib.pyplot as plt\n",
    "\n",
    "# Qiskit \n",
    "import qiskit\n",
    "from qiskit import QuantumCircuit, Aer, transpile\n",
    "from qiskit.circuit.library import QFT\n",
    "\n",
    "# Custom libraries\n",
    "import supplementary\n",
    "import uniformly_controlled_rotations as UCR"
   ]
  },
  {
   "cell_type": "markdown",
   "id": "48a76da0",
   "metadata": {},
   "source": [
    "## The FSL method"
   ]
  },
  {
   "cell_type": "markdown",
   "id": "cbd644ca",
   "metadata": {},
   "source": [
    "Given a function $f: [0,1] \\to \\mathbb{C}$, the task of a function loading method is to prepare, with high fidelity, an $n$-qubit state $|{f}\\rangle \\, = \\, \\sum_{k=0}^{2^{n}-1} f_{k} |k\\rangle \\, ,$ where $f_{k} = f(k/2^{n}) \\, $. While this can always be accompolished with a quantum circuit of $O(2^{n})$ depth and with $O(2^{n})$ quantum gates, the challenge is to do it using $O($poly$(n))$ resources.  \n",
    "\n",
    "The FSL method exploits the fact that any function $f$ can be well-approximated by a truncated Fourier series. That is,\n",
    "\n",
    "$$ f(x) \\approx f_{(m)}(x) = \\sum_{\\ell = -2^{m}+1}^{2^{m}-1} \\, c_{\\ell} e^{-i2\\pi \\ell x} \\, . $$\n",
    "\n",
    "The FSL method loads $f_{(m)}(x)$ on a quantum state and prepares $|f_{m}\\rangle$ using a quantum circuit of $O(n)$ depth and with $O(n^{2})$ quantum gates. Since $f_{(m)}$ is a good approximation of the target function $f$, the prepared state $|f_{(m)}\\rangle$ is a good approximation of the target state $|f\\rangle$.\n",
    "\n",
    "Therefore, the first step in implementing the FSL method is to find a Fourier series approximation $f_{(m)}$ of the function $f$. The second step is to find an unitary $U_{c}$ which loads Fourier coefficients $c_{\\ell}$ for $-2^{m} < \\ell < 2^{m}$ into an $(m+1)$ qubit state. Explicitly, $U_{c}$ maps $|0\\rangle^{\\otimes (m+1)}$ to\n",
    "\n",
    "$$ |\\tilde{c}\\rangle \\, \\sim \\, \\sum_{\\ell=0}^{2^{m}-1} \\, c_{\\ell} |\\ell\\rangle \\, + \\, \\sum_{\\ell=1}^{2^{m}-1} \\, c_{-\\ell} |2^{m+1}-\\ell\\rangle \\, , $$\n",
    "\n",
    "where $\\sim$ denotes equality up to a normalization constant. Once a suitable unitary $U_{c}$ is found, the Fourier series approximation $f_{(m)}$ is loaded on a quantum state of $n$ qubits using the following quantum circuit.  \n"
   ]
  },
  {
   "cell_type": "markdown",
   "id": "73858bb0",
   "metadata": {},
   "source": [
    "<img src=\"figures/circuit_fsl.jpg\" width=\"550\"/>"
   ]
  },
  {
   "cell_type": "markdown",
   "id": "e5ebce7d",
   "metadata": {},
   "source": [
    "In the rest of the notebook, we present the codes to perform the aforementioned steps for implementing the FSL method. We demonstrate its functionality via a quantum simulation of loading the reflected put option function into a state of $n=20$ qubits. We perform this simulation using the Qiskit Aer `statevector_vector` simulator. "
   ]
  },
  {
   "cell_type": "markdown",
   "id": "65b85e1d",
   "metadata": {},
   "source": [
    "## Reflected Put Option Function"
   ]
  },
  {
   "cell_type": "code",
   "execution_count": 2,
   "id": "5e478609",
   "metadata": {},
   "outputs": [],
   "source": [
    "# no. of qubits \n",
    "n = 20 \n",
    "# Discretizing the domain [0,1] into 2^n uniformly spaced points\n",
    "x = [k/(2**n) for k in range(2**n)]\n",
    "\n",
    "#Qiskit quantum state vector simulator\n",
    "simulator = Aer.get_backend('statevector_simulator')"
   ]
  },
  {
   "cell_type": "markdown",
   "id": "2b519f26",
   "metadata": {},
   "source": [
    "The reflected put option function is given by $f(x) = \\mathcal{N}^{-1/2} \\text{max}\\big\\{ K - e^{1-|2x-1|} \\, , 0 \\big\\} \\, $, where $\\mathcal{N}$ is chosen such that the state $|f\\rangle$ is normalized. For concreteness, we take $K = 2$. This is an interesting example as this function is defined piecewise. Despite that, we will still be able to load this function into a quantum state using the FSL method. \n",
    "\n",
    "We start by storing the elements of the state $|f\\rangle$ as a list with identifier `target_f`:"
   ]
  },
  {
   "cell_type": "code",
   "execution_count": 3,
   "id": "cd969a1f",
   "metadata": {},
   "outputs": [],
   "source": [
    "# Target function\n",
    "target_f = [max(2-np.exp(1-np.abs(2*xx-1)),0) for xx in x]\n",
    "target_f = target_f/np.linalg.norm(target_f)"
   ]
  },
  {
   "cell_type": "markdown",
   "id": "f31239e9",
   "metadata": {},
   "source": [
    "As discussed above, we need to approximate this function by a truncated Fourier series. In other words, we need to find the first few Fourier coefficients of this function. We do this using the fast discrete Fourier transform method. In fact, we have defined a function `Fourier_state` in the code file `supplementary.py`, which takes as an input a `list` $f$ and an `int` $m$ and returns a `list` of length $2^{(m+1)}$, $[c_{0}, c_{1}, \\dots , c_{2^{m}-1}, 0, c_{-2^{m}+1}, \\dots, c_{-1} ] \\, $, where $c_{\\ell}$ are the discrete Fourier coeffiecents of $f$. \n",
    "\n",
    "For concreteness, we choose $m=6$, and find the elements of the state $|\\tilde{c}\\rangle$ using the `Fourier_state` function. "
   ]
  },
  {
   "cell_type": "code",
   "execution_count": 4,
   "id": "ad6632ad",
   "metadata": {},
   "outputs": [],
   "source": [
    "# No. of Fourier modes\n",
    "# is 2^(m+1)\n",
    "m = 6\n",
    "\n",
    "# |c> with first 2^(m+1)\n",
    "# Fourier modes\n",
    "state_c = supplementary.Fourier_state(target_f,m)"
   ]
  },
  {
   "cell_type": "markdown",
   "id": "b5a98cd8",
   "metadata": {},
   "source": [
    "The next step is to find a unitary $U_{c}$ defined above. We implement this unitary using a cascade of uniformly controlled rotations, which can be used to prepare an arbitrary state. All the angles of uniformly controlled rotations needed to prepare a given state can exactly be determined with a few lines of codes. The file `uniformly_controlled_rotations.py` contains codes to calculate the angles of rotations, and implement an efficient decomposition of the uniformly controlled rotations in terms of CNOTs and single-qubit rotation gates. In particular, the function `cascade_UCRs` takes a `list` of length $2^{n}$ of the form $[\\psi_{0},\\psi_{1}, \\dots, \\psi_{2^{n}-1}]$ and returns the cascade of uniformly controlled rotations implemented as a Qiskit `QuantumCircuit` that maps $|0\\rangle^{\\otimes n}$ to $\\sum_{k=0}^{2^{n}-1} \\psi_{k}|k\\rangle \\, $. Applying this function to `state_c` will give us an implementation of $U_{c}$:"
   ]
  },
  {
   "cell_type": "code",
   "execution_count": 5,
   "id": "a907f190",
   "metadata": {},
   "outputs": [],
   "source": [
    "U_c = UCR.cascade_UCRs(state_c)"
   ]
  },
  {
   "cell_type": "markdown",
   "id": "49a35508",
   "metadata": {},
   "source": [
    "Now that we have the quantum circuit $U_{c}$, we can prepare and run the circuit shown above. "
   ]
  },
  {
   "cell_type": "code",
   "execution_count": 6,
   "id": "b31b12c7",
   "metadata": {},
   "outputs": [],
   "source": [
    "# Initialize a quantum circuit\n",
    "circ = QuantumCircuit(n)\n",
    "\n",
    "# Apply U_c on the last (m+1) qubits\n",
    "Uc_qubits = range(n-m-1,n)\n",
    "circ.compose(U_c,qubits=Uc_qubits,inplace=True)\n",
    "\n",
    "# Apply a cascade of CNOTs\n",
    "for i in range(n-m-1):\n",
    "    circ.cx(n-m-1,i)\n",
    "\n",
    "# Finally, apply the inverse QFT.\n",
    "inv_qft = QFT(num_qubits=n, inverse=True)\n",
    "inv_qft = transpile(inv_qft, simulator)\n",
    "# Note that Qiskit uses the opposite \n",
    "# qubit ordering. \n",
    "circ.compose(inv_qft,qubits=range(n-1,-1,-1),inplace=True)\n",
    "\n",
    "# Run the circuit\n",
    "# and get the statevector\n",
    "job = simulator.run(circ)\n",
    "output_state = job.result().get_statevector(circ)"
   ]
  },
  {
   "cell_type": "markdown",
   "id": "f395877e",
   "metadata": {},
   "source": [
    "Before we analyze the output of the simulation that we have just performed, we observe that the Qiskit uses a different qubit ordering convention than the one we have been using. For example, the state we label by $|001\\rangle$ is alternatively labelled by $|100\\rangle$ according to the convention used by Qiskit. Therefore, we have to make sure that we perform the necessary reordering before analyzing the output of the above simulation. This is achieved by the function `output_reordering` which we have defined in the code file `supplementary.py`. This function takes the result of the simulation performed in Qiskit, and returns the output which is consistent with our qubit-ordering conventions. "
   ]
  },
  {
   "cell_type": "code",
   "execution_count": 7,
   "id": "3f8f4c60",
   "metadata": {},
   "outputs": [],
   "source": [
    "# Reordering qubits\n",
    "simulated_f = supplementary.output_reordering(output_state)"
   ]
  },
  {
   "cell_type": "markdown",
   "id": "64c7de06",
   "metadata": {},
   "source": [
    "We can present the result of the simulation by plotting the amplitudes of the state prepared using the FSL method, `simulated_f`, together with the amplitudes of the target state, `target_f`. "
   ]
  },
  {
   "cell_type": "code",
   "execution_count": 8,
   "id": "6ed5f01c",
   "metadata": {},
   "outputs": [
    {
     "data": {
      "image/png": "[encoded data removed]",
      "text/plain": [
       "<Figure size 576x504 with 1 Axes>"
      ]
     },
     "metadata": {
      "needs_background": "light"
     },
     "output_type": "display_data"
    }
   ],
   "source": [
    "# Plottting the simulated statevectors \n",
    "fig=plt.figure(figsize=(8, 7))\n",
    "ax = fig.add_subplot(111)\n",
    "plt.grid()\n",
    "line, = ax.plot(x, target_f, 'blue', lw=7, alpha=0.3,label='Target')\n",
    "line1, = ax.plot(x, np.real(simulated_f), 'red', lw=2,label='FSL Simulation')\n",
    "plt.xlabel('x')\n",
    "plt.ylabel('f(x)')\n",
    "plt.legend(loc=9,fontsize=20)\n",
    "plt.tight_layout()\n",
    "plt.show()"
   ]
  },
  {
   "cell_type": "markdown",
   "id": "3219022b",
   "metadata": {},
   "source": [
    "It is apparent from the above figure that we have successfully loaded the reflected put option function on a quantum state of $20$ qubits with high fidelity. We can quantify the error between the prepared state and the target state in terms of the infidelity between these states. The infidelity between states $|f_{1}\\rangle$ and $|f_{2}\\rangle$ is defined as\n",
    "\n",
    "$$ \\epsilon \\, \\equiv \\, 1 - \\left| \\langle f_{1} | f_{2} \\rangle \\right|^{2} \\, . $$\n",
    "\n",
    "We now calculate the infidelity between two target state and the simulated state:"
   ]
  },
  {
   "cell_type": "code",
   "execution_count": 9,
   "id": "8cac5be2",
   "metadata": {},
   "outputs": [
    {
     "name": "stdout",
     "output_type": "stream",
     "text": [
      "2.9379419719255395e-07\n"
     ]
    }
   ],
   "source": [
    "# Calculate infidelity\n",
    "infidelity = 1 - np.abs(np.dot(np.conjugate(simulated_f),target_f))**2\n",
    "print(infidelity)"
   ]
  },
  {
   "cell_type": "markdown",
   "id": "0812e89f",
   "metadata": {},
   "source": [
    "## Conclusion\n",
    "\n",
    "In this notebook, we have presented the codes to perform the simulation of the FSL method. In doing so, we have also provided a step-by-step tutorial on implementing the FSL method. "
   ]
  },
  {
   "cell_type": "code",
   "execution_count": null,
   "id": "66b0b030",
   "metadata": {},
   "outputs": [],
   "source": []
  }
 ],
 "metadata": {
  "kernelspec": {
   "display_name": "Python 3 (ipykernel)",
   "language": "python",
   "name": "python3"
  },
  "language_info": {
   "codemirror_mode": {
    "name": "ipython",
    "version": 3
   },
   "file_extension": ".py",
   "mimetype": "text/x-python",
   "name": "python",
   "nbconvert_exporter": "python",
   "pygments_lexer": "ipython3",
   "version": "3.9.2"
  }
 },
 "nbformat": 4,
 "nbformat_minor": 5
}
